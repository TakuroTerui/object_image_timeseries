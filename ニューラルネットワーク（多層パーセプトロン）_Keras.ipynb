{
  "nbformat": 4,
  "nbformat_minor": 0,
  "metadata": {
    "colab": {
      "name": "ニューラルネットワーク（多層パーセプトロン）_Keras.ipynb",
      "provenance": [],
      "authorship_tag": "ABX9TyPBzM4/rPgFMqz+lSy1YhiN"
    },
    "kernelspec": {
      "name": "python3",
      "display_name": "Python 3"
    },
    "language_info": {
      "name": "python"
    }
  },
  "cells": [
    {
      "cell_type": "markdown",
      "source": [
        "### Kerasを用いたニューラルネットワークの構築"
      ],
      "metadata": {
        "id": "wyQT02k6EmO8"
      }
    },
    {
      "cell_type": "code",
      "source": [
        "'''\n",
        "1. データセットの読み込みと前処理\n",
        "'''\n",
        "# Fashion-MNISTデータセットをインポート\n",
        "from tensorflow.keras.datasets import fashion_mnist\n",
        "\n",
        "# Fashion-MNISTデータセットの読み込み\n",
        "(x_train, y_train), (x_test, y_test) = fashion_mnist.load_data()\n",
        "\n",
        "# (28, 28)の画像データを（784）のベクトルに変換して正規化を行う\n",
        "# (60000, 28, 28)の訓練データを(60000, 784)の2階テンソルに変換\n",
        "x_train = x_train.reshape(-1, 784)\n",
        "# 訓練データをfloat32（浮動小数点）型に255で割ってスケール変換する\n",
        "x_train = x_train.astype('float32') / 255\n",
        "\n",
        "# (10000, 28, 28)の訓練データを(10000, 784)の2階テンソルに変換\n",
        "x_test = x_test.reshape(-1, 784)\n",
        "# テストデータをfloat32（浮動小数点）型に255で割ってスケール変換する\n",
        "x_test = x_test.astype('float32') / 255"
      ],
      "metadata": {
        "id": "zK_czBSZsK4Y"
      },
      "execution_count": null,
      "outputs": []
    },
    {
      "cell_type": "code",
      "source": [
        "'''\n",
        "2. モデルの定義\n",
        "'''\n",
        "# ニューラルネットワークの構築\n",
        "# keras.modelからSequentislをインポート\n",
        "from tensorflow.keras.models import Sequential\n",
        "# keras.layersからDense, Dropoutをインポート\n",
        "from tensorflow.keras.layers import Dense, Dropout\n",
        "# keras.optimizersからSGDをインポート\n",
        "from tensorflow.keras.optimizers import SGD\n",
        "\n",
        "# 隠れ層\n",
        "model = Sequential()\n",
        "model.add(Dense(\n",
        "    256,\n",
        "    input_dim=784,\n",
        "    activation='relu'\n",
        "))\n",
        "# ドロップアウト\n",
        "model.add(Dropout(0.5))\n",
        "\n",
        "model.add(Dense(\n",
        "    10,\n",
        "    activation='softmax'\n",
        "))\n",
        "\n",
        "# モデルのコンパイル\n",
        "learning_rate = 0.1\n",
        "model.compile(\n",
        "    loss='sparse_categorical_crossentropy',\n",
        "    optimizer=SGD(lr=learning_rate),\n",
        "    metrics=['accuracy']\n",
        ")\n",
        "model.summary()"
      ],
      "metadata": {
        "colab": {
          "base_uri": "https://localhost:8080/"
        },
        "id": "6PB7N_PjtTm3",
        "outputId": "f3ec48ef-2f34-45aa-9594-bbf91588b951"
      },
      "execution_count": null,
      "outputs": [
        {
          "output_type": "stream",
          "name": "stdout",
          "text": [
            "Model: \"sequential_1\"\n",
            "_________________________________________________________________\n",
            " Layer (type)                Output Shape              Param #   \n",
            "=================================================================\n",
            " dense_2 (Dense)             (None, 256)               200960    \n",
            "                                                                 \n",
            " dropout_1 (Dropout)         (None, 256)               0         \n",
            "                                                                 \n",
            " dense_3 (Dense)             (None, 10)                2570      \n",
            "                                                                 \n",
            "=================================================================\n",
            "Total params: 203,530\n",
            "Trainable params: 203,530\n",
            "Non-trainable params: 0\n",
            "_________________________________________________________________\n"
          ]
        },
        {
          "output_type": "stream",
          "name": "stderr",
          "text": [
            "/usr/local/lib/python3.7/dist-packages/keras/optimizer_v2/gradient_descent.py:102: UserWarning: The `lr` argument is deprecated, use `learning_rate` instead.\n",
            "  super(SGD, self).__init__(name, **kwargs)\n"
          ]
        }
      ]
    },
    {
      "cell_type": "code",
      "source": [
        "%%time\n",
        "'''\n",
        "3. 学習を行う\n",
        "'''\n",
        "from tensorflow.keras.callbacks import EarlyStopping\n",
        "\n",
        "# 学習回数、ミニバッチのサイズを設定\n",
        "training_epochs = 100\n",
        "batch_size = 64\n",
        "\n",
        "# 早期終了を行うEarlyStoppingを生成\n",
        "early_stopping = EarlyStopping(\n",
        "    monitor='val_loss',\n",
        "    patience=5,\n",
        "    verbose=1\n",
        ")\n",
        "\n",
        "# 学習を行って結果を出力\n",
        "history = model.fit(\n",
        "    x_train,\n",
        "    y_train,\n",
        "    epochs=training_epochs,\n",
        "    batch_size=batch_size,\n",
        "    verbose=1,\n",
        "    validation_split=0.2,\n",
        "    shuffle=True,\n",
        "    callbacks=[early_stopping]\n",
        ")\n",
        "# テストデータで学習を評価するデータを取得\n",
        "score = model.evaluate(x_test, y_test, verbose=0)\n",
        "# テストデータの誤り率を出力\n",
        "print('Test loss:', score[0])\n",
        "# テストデータの正解率を出力\n",
        "print('Test accuracy:', score[1])"
      ],
      "metadata": {
        "colab": {
          "base_uri": "https://localhost:8080/"
        },
        "id": "BXV3AglQurQ-",
        "outputId": "4e06cc8e-ac71-4db6-91f0-249e58e2bca6"
      },
      "execution_count": null,
      "outputs": [
        {
          "output_type": "stream",
          "name": "stdout",
          "text": [
            "Epoch 1/100\n",
            "750/750 [==============================] - 5s 6ms/step - loss: 0.6769 - accuracy: 0.7627 - val_loss: 0.4778 - val_accuracy: 0.8274\n",
            "Epoch 2/100\n",
            "750/750 [==============================] - 4s 5ms/step - loss: 0.4964 - accuracy: 0.8217 - val_loss: 0.4160 - val_accuracy: 0.8513\n",
            "Epoch 3/100\n",
            "750/750 [==============================] - 4s 5ms/step - loss: 0.4486 - accuracy: 0.8393 - val_loss: 0.3946 - val_accuracy: 0.8587\n",
            "Epoch 4/100\n",
            "750/750 [==============================] - 4s 5ms/step - loss: 0.4251 - accuracy: 0.8477 - val_loss: 0.3924 - val_accuracy: 0.8582\n",
            "Epoch 5/100\n",
            "750/750 [==============================] - 4s 5ms/step - loss: 0.4051 - accuracy: 0.8530 - val_loss: 0.3684 - val_accuracy: 0.8668\n",
            "Epoch 6/100\n",
            "750/750 [==============================] - 4s 5ms/step - loss: 0.3921 - accuracy: 0.8581 - val_loss: 0.3599 - val_accuracy: 0.8708\n",
            "Epoch 7/100\n",
            "750/750 [==============================] - 4s 5ms/step - loss: 0.3802 - accuracy: 0.8620 - val_loss: 0.3504 - val_accuracy: 0.8761\n",
            "Epoch 8/100\n",
            "750/750 [==============================] - 4s 6ms/step - loss: 0.3713 - accuracy: 0.8645 - val_loss: 0.3515 - val_accuracy: 0.8697\n",
            "Epoch 9/100\n",
            "750/750 [==============================] - 4s 5ms/step - loss: 0.3626 - accuracy: 0.8669 - val_loss: 0.3443 - val_accuracy: 0.8782\n",
            "Epoch 10/100\n",
            "750/750 [==============================] - 4s 6ms/step - loss: 0.3550 - accuracy: 0.8709 - val_loss: 0.3335 - val_accuracy: 0.8798\n",
            "Epoch 11/100\n",
            "750/750 [==============================] - 4s 6ms/step - loss: 0.3481 - accuracy: 0.8725 - val_loss: 0.3423 - val_accuracy: 0.8751\n",
            "Epoch 12/100\n",
            "750/750 [==============================] - 4s 6ms/step - loss: 0.3422 - accuracy: 0.8756 - val_loss: 0.3300 - val_accuracy: 0.8827\n",
            "Epoch 13/100\n",
            "750/750 [==============================] - 4s 5ms/step - loss: 0.3389 - accuracy: 0.8773 - val_loss: 0.3268 - val_accuracy: 0.8838\n",
            "Epoch 14/100\n",
            "750/750 [==============================] - 4s 6ms/step - loss: 0.3332 - accuracy: 0.8791 - val_loss: 0.3221 - val_accuracy: 0.8808\n",
            "Epoch 15/100\n",
            "750/750 [==============================] - 4s 6ms/step - loss: 0.3258 - accuracy: 0.8821 - val_loss: 0.3251 - val_accuracy: 0.8808\n",
            "Epoch 16/100\n",
            "750/750 [==============================] - 4s 6ms/step - loss: 0.3224 - accuracy: 0.8814 - val_loss: 0.3190 - val_accuracy: 0.8841\n",
            "Epoch 17/100\n",
            "750/750 [==============================] - 5s 6ms/step - loss: 0.3221 - accuracy: 0.8821 - val_loss: 0.3183 - val_accuracy: 0.8828\n",
            "Epoch 18/100\n",
            "750/750 [==============================] - 5s 6ms/step - loss: 0.3151 - accuracy: 0.8839 - val_loss: 0.3190 - val_accuracy: 0.8854\n",
            "Epoch 19/100\n",
            "750/750 [==============================] - 4s 5ms/step - loss: 0.3111 - accuracy: 0.8862 - val_loss: 0.3119 - val_accuracy: 0.8882\n",
            "Epoch 20/100\n",
            "750/750 [==============================] - 5s 6ms/step - loss: 0.3071 - accuracy: 0.8869 - val_loss: 0.3158 - val_accuracy: 0.8858\n",
            "Epoch 21/100\n",
            "750/750 [==============================] - 4s 6ms/step - loss: 0.3039 - accuracy: 0.8876 - val_loss: 0.3121 - val_accuracy: 0.8867\n",
            "Epoch 22/100\n",
            "750/750 [==============================] - 5s 6ms/step - loss: 0.3023 - accuracy: 0.8881 - val_loss: 0.3130 - val_accuracy: 0.8873\n",
            "Epoch 23/100\n",
            "750/750 [==============================] - 4s 6ms/step - loss: 0.2992 - accuracy: 0.8881 - val_loss: 0.3143 - val_accuracy: 0.8862\n",
            "Epoch 24/100\n",
            "750/750 [==============================] - 6s 9ms/step - loss: 0.2947 - accuracy: 0.8911 - val_loss: 0.3103 - val_accuracy: 0.8892\n",
            "Epoch 25/100\n",
            "750/750 [==============================] - 8s 11ms/step - loss: 0.2901 - accuracy: 0.8939 - val_loss: 0.3161 - val_accuracy: 0.8858\n",
            "Epoch 26/100\n",
            "750/750 [==============================] - 8s 11ms/step - loss: 0.2868 - accuracy: 0.8950 - val_loss: 0.3111 - val_accuracy: 0.8833\n",
            "Epoch 27/100\n",
            "750/750 [==============================] - 7s 9ms/step - loss: 0.2845 - accuracy: 0.8941 - val_loss: 0.3045 - val_accuracy: 0.8900\n",
            "Epoch 28/100\n",
            "750/750 [==============================] - 7s 9ms/step - loss: 0.2827 - accuracy: 0.8960 - val_loss: 0.3039 - val_accuracy: 0.8907\n",
            "Epoch 29/100\n",
            "750/750 [==============================] - 7s 9ms/step - loss: 0.2771 - accuracy: 0.8969 - val_loss: 0.3044 - val_accuracy: 0.8882\n",
            "Epoch 30/100\n",
            "750/750 [==============================] - 4s 5ms/step - loss: 0.2802 - accuracy: 0.8956 - val_loss: 0.3083 - val_accuracy: 0.8901\n",
            "Epoch 31/100\n",
            "750/750 [==============================] - 4s 5ms/step - loss: 0.2753 - accuracy: 0.8970 - val_loss: 0.3011 - val_accuracy: 0.8942\n",
            "Epoch 32/100\n",
            "750/750 [==============================] - 4s 5ms/step - loss: 0.2729 - accuracy: 0.8988 - val_loss: 0.3060 - val_accuracy: 0.8897\n",
            "Epoch 33/100\n",
            "750/750 [==============================] - 4s 5ms/step - loss: 0.2729 - accuracy: 0.8977 - val_loss: 0.3013 - val_accuracy: 0.8918\n",
            "Epoch 34/100\n",
            "750/750 [==============================] - 4s 5ms/step - loss: 0.2683 - accuracy: 0.8999 - val_loss: 0.2981 - val_accuracy: 0.8913\n",
            "Epoch 35/100\n",
            "750/750 [==============================] - 4s 6ms/step - loss: 0.2670 - accuracy: 0.9010 - val_loss: 0.3004 - val_accuracy: 0.8936\n",
            "Epoch 36/100\n",
            "750/750 [==============================] - 4s 6ms/step - loss: 0.2657 - accuracy: 0.9010 - val_loss: 0.3078 - val_accuracy: 0.8891\n",
            "Epoch 37/100\n",
            "750/750 [==============================] - 4s 5ms/step - loss: 0.2636 - accuracy: 0.9005 - val_loss: 0.2990 - val_accuracy: 0.8926\n",
            "Epoch 38/100\n",
            "750/750 [==============================] - 4s 6ms/step - loss: 0.2606 - accuracy: 0.9016 - val_loss: 0.2981 - val_accuracy: 0.8953\n",
            "Epoch 39/100\n",
            "750/750 [==============================] - 5s 7ms/step - loss: 0.2586 - accuracy: 0.9036 - val_loss: 0.3017 - val_accuracy: 0.8917\n",
            "Epoch 39: early stopping\n",
            "Test loss: 0.32990744709968567\n",
            "Test accuracy: 0.8855999708175659\n",
            "CPU times: user 3min 14s, sys: 14 s, total: 3min 28s\n",
            "Wall time: 3min 24s\n"
          ]
        }
      ]
    },
    {
      "cell_type": "code",
      "source": [
        "'''\n",
        "4. 損失、正解率をグラフにする\n",
        "'''\n",
        "%matplotlib inline\n",
        "import matplotlib.pyplot as plt\n",
        "\n",
        "# 訓練データの損失をプロット\n",
        "plt.plot(\n",
        "    history.history['loss'],\n",
        "    marker='.',\n",
        "    label='loss (Training)'\n",
        ")\n",
        "# 検証データの損失をプロット\n",
        "plt.plot(\n",
        "    history.history['val_loss'],\n",
        "    marker='.',\n",
        "    label='loss (Validation)'\n",
        ")\n",
        "plt.legend()\n",
        "plt.grid()\n",
        "plt.xlabel('epoch')\n",
        "plt.ylabel('loss')\n",
        "plt.show()\n",
        "\n",
        "# 訓練データの精度をプロット\n",
        "plt.plot(\n",
        "    history.history['accuracy'],\n",
        "    marker='.',\n",
        "    label='accuracy (Training)'\n",
        ")\n",
        "# 検証データの精度をプロット\n",
        "plt.plot(\n",
        "    history.history['val_accuracy'],\n",
        "    marker='.',\n",
        "    label='accuracy (Validation)'\n",
        ")\n",
        "plt.legend(loc='best')\n",
        "plt.grid()\n",
        "plt.xlabel('epoch')\n",
        "plt.ylabel('accuracy')\n",
        "plt.show()"
      ],
      "metadata": {
        "colab": {
          "base_uri": "https://localhost:8080/",
          "height": 541
        },
        "id": "P6YIutZpwGdr",
        "outputId": "074776d1-f8be-4e16-faae-c7f21c140088"
      },
      "execution_count": null,
      "outputs": [
        {
          "output_type": "display_data",
          "data": {
            "text/plain": [
              "<Figure size 432x288 with 1 Axes>"
            ],
            "image/png": "[encoded data removed]"
          },
          "metadata": {
            "needs_background": "light"
          }
        },
        {
          "output_type": "display_data",
          "data": {
            "text/plain": [
              "<Figure size 432x288 with 1 Axes>"
            ],
            "image/png": "[encoded data removed]"
          },
          "metadata": {
            "needs_background": "light"
          }
        }
      ]
    },
    {
      "cell_type": "code",
      "source": [
        ""
      ],
      "metadata": {
        "id": "BseL1kKnxawU"
      },
      "execution_count": null,
      "outputs": []
    }
  ]
}