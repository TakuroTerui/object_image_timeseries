{
  "nbformat": 4,
  "nbformat_minor": 0,
  "metadata": {
    "colab": {
      "name": "4章ニューラルネットワークの可動部（勾配ベースの最適化）.ipynb",
      "provenance": [],
      "authorship_tag": "ABX9TyNJXoqAaanc8eTEPJTQOF7V"
    },
    "kernelspec": {
      "name": "python3",
      "display_name": "Python 3"
    },
    "language_info": {
      "name": "python"
    }
  },
  "cells": [
    {
      "cell_type": "code",
      "execution_count": 1,
      "metadata": {
        "id": "wNnuFDN4wVe4"
      },
      "outputs": [],
      "source": [
        "import numpy as np"
      ]
    },
    {
      "cell_type": "code",
      "source": [
        "# シグモイド関数の実装\n",
        "def sigmoid(x):\n",
        "    return 1 / (1 + np.exp(-x))"
      ],
      "metadata": {
        "id": "ee0GhZFCwg8q"
      },
      "execution_count": 2,
      "outputs": []
    },
    {
      "cell_type": "code",
      "source": [
        "# グラフのインライン表示\n",
        "%matplotlib inline\n",
        "\n",
        "#　ライブラリのインポート\n",
        "import matplotlib.pyplot as plt"
      ],
      "metadata": {
        "id": "Ad3PfFWawpVv"
      },
      "execution_count": 3,
      "outputs": []
    },
    {
      "cell_type": "code",
      "source": [
        "x = np.arange(-5.0, 5.0, 0.01)\n",
        "y = sigmoid(x)\n",
        "plt.plot(x, y)\n",
        "plt.grid(True)\n",
        "plt.show()"
      ],
      "metadata": {
        "colab": {
          "base_uri": "https://localhost:8080/",
          "height": 265
        },
        "id": "w5_QEYBzw3-a",
        "outputId": "e57b5b26-2ddb-406e-9ecc-7792384170b3"
      },
      "execution_count": 4,
      "outputs": [
        {
          "output_type": "display_data",
          "data": {
            "text/plain": [
              "<Figure size 432x288 with 1 Axes>"
            ],
            "image/png": "[encoded data removed]"
          },
          "metadata": {
            "needs_background": "light"
          }
        }
      ]
    },
    {
      "cell_type": "markdown",
      "source": [
        "### 単純パーセプトロンで論理ゲートを実する"
      ],
      "metadata": {
        "id": "ARxi3-MSxFXA"
      }
    },
    {
      "cell_type": "code",
      "source": [
        "def create_matrix(x):\n",
        "    '''\n",
        "    データx1, x2にバイアスに対応するx0(=1)を加えた行列を作成\n",
        "    Parameters:\n",
        "        x(ndarray):x1, x2を格納した2階テンソル\n",
        "    '''\n",
        "    x0 = np.ones([x.shape[0], 1])\n",
        "    return np.hstack([x0, x])"
      ],
      "metadata": {
        "id": "mOsYQ-D8xauz"
      },
      "execution_count": 5,
      "outputs": []
    },
    {
      "cell_type": "code",
      "source": [
        "def sigmoid(X, parameter):\n",
        "    '''\n",
        "    シグモイド関数\n",
        "    Parameters:\n",
        "        X(ndarray):x0, x1, x2を格納した2階テンソル\n",
        "    Returns:\n",
        "        シグモイド関数適用後のX\n",
        "    '''\n",
        "    return 1 / (1 + np.exp(-np.dot(X, parameter)))"
      ],
      "metadata": {
        "id": "qsdSeculyCm8"
      },
      "execution_count": 6,
      "outputs": []
    },
    {
      "cell_type": "code",
      "source": [
        "def logistic_regression(X, t):\n",
        "    '''\n",
        "    二値分類を行う単純パーセプトロン\n",
        "    Parameters:\n",
        "        X(ndarray):x0, x1, x2が格納された2階テンソル\n",
        "        t(ndarray):正解ラベルが格納された1階テンソル\n",
        "    '''\n",
        "    # 学習率\n",
        "    LNR = 1e-1\n",
        "    loop = 50\n",
        "    count = 1\n",
        "    parameter = np.random.rand(3)\n",
        "    for i in range(loop):\n",
        "        #　バイアス、w1, w2を勾配降下法で更新\n",
        "        parameter = parameter - LNR * np.dot(sigmoid(X, parameter) - t, X)\n",
        "        # 最初の1回と以降10回ごとにパラメーターの値を出力\n",
        "        if (count == 1 or count % 10 == 0):\n",
        "            print('{}回： parameter = {}'.format(count, parameter))\n",
        "        count += 1\n",
        "    return parameter"
      ],
      "metadata": {
        "id": "lwgxK-6lyg7v"
      },
      "execution_count": 8,
      "outputs": []
    },
    {
      "cell_type": "code",
      "source": [
        "# ANDゲートの学習を行う\n",
        "x = np.array([[0, 0], [0, 1], [1, 0], [1, 1]])\n",
        "t = np.array([0, 0, 0, 1])\n",
        "X = create_matrix(x)\n",
        "parameter = logistic_regression(X, t)"
      ],
      "metadata": {
        "colab": {
          "base_uri": "https://localhost:8080/"
        },
        "id": "-sQwXJsMzujH",
        "outputId": "004c6d81-576a-4527-a101-f6b28166b5d6"
      },
      "execution_count": 9,
      "outputs": [
        {
          "output_type": "stream",
          "name": "stdout",
          "text": [
            "1回： parameter = [0.71226255 0.70401993 0.20835103]\n",
            "10回： parameter = [-0.50019294  0.43872305  0.03712424]\n",
            "20回： parameter = [-1.04117589  0.55629374  0.239741  ]\n",
            "30回： parameter = [-1.38332709  0.74524314  0.49208155]\n",
            "40回： parameter = [-1.66497485  0.93065407  0.72671427]\n",
            "50回： parameter = [-1.91615277  1.10149118  0.93629624]\n"
          ]
        }
      ]
    },
    {
      "cell_type": "code",
      "source": [
        "# 学習した重み・バイアスを使ってANDゲートの出力を表示してみる\n",
        "(sigmoid(create_matrix(np.array([[0, 0], [0, 1], [1, 0], [1, 1]])), parameter) >= 0.5).astype(np.int)"
      ],
      "metadata": {
        "colab": {
          "base_uri": "https://localhost:8080/"
        },
        "id": "b_D-2SNU0E2Z",
        "outputId": "2c8fc971-88f0-481c-d928-de414ec778a6"
      },
      "execution_count": 10,
      "outputs": [
        {
          "output_type": "stream",
          "name": "stderr",
          "text": [
            "/usr/local/lib/python3.7/dist-packages/ipykernel_launcher.py:2: DeprecationWarning: `np.int` is a deprecated alias for the builtin `int`. To silence this warning, use `int` by itself. Doing this will not modify any behavior and is safe. When replacing `np.int`, you may wish to use e.g. `np.int64` or `np.int32` to specify the precision. If you wish to review your current use, check the release note link for additional information.\n",
            "Deprecated in NumPy 1.20; for more details and guidance: https://numpy.org/devdocs/release/1.20.0-notes.html#deprecations\n",
            "  \n"
          ]
        },
        {
          "output_type": "execute_result",
          "data": {
            "text/plain": [
              "array([0, 0, 0, 1])"
            ]
          },
          "metadata": {},
          "execution_count": 10
        }
      ]
    },
    {
      "cell_type": "code",
      "source": [
        "# NANDゲートの学習を行う\n",
        "x = np.array([[0, 0], [0, 1], [1, 0], [1, 1]])\n",
        "t = np.array([1, 1, 1, 0])\n",
        "X = create_matrix(x)\n",
        "parameter = logistic_regression(X, t)"
      ],
      "metadata": {
        "colab": {
          "base_uri": "https://localhost:8080/"
        },
        "id": "LCgg5d8M0qzB",
        "outputId": "3d4d4b22-8fbc-41c5-a9ae-4ddec34f9f19"
      },
      "execution_count": 11,
      "outputs": [
        {
          "output_type": "stream",
          "name": "stdout",
          "text": [
            "1回： parameter = [0.7746562  0.28436473 0.63284027]\n",
            "10回： parameter = [ 0.83969286 -0.14520538  0.14681825]\n",
            "20回： parameter = [ 1.09514204 -0.45434936 -0.21931085]\n",
            "30回： parameter = [ 1.38134335 -0.69019435 -0.50135095]\n",
            "40回： parameter = [ 1.65268033 -0.89108229 -0.73884295]\n",
            "50回： parameter = [ 1.90268521 -1.06964085 -0.94633797]\n"
          ]
        }
      ]
    },
    {
      "cell_type": "code",
      "source": [
        "# 学習した重み・バイアスを使ってANDゲートの出力を表示してみる\n",
        "(sigmoid(create_matrix(np.array([[0, 0], [0, 1], [1, 0], [1, 1]])), parameter) >= 0.5).astype(np.int)"
      ],
      "metadata": {
        "colab": {
          "base_uri": "https://localhost:8080/"
        },
        "id": "TdsTNFl91Azy",
        "outputId": "409a08d8-e0f3-4c1b-f28d-c28172f14288"
      },
      "execution_count": 12,
      "outputs": [
        {
          "output_type": "stream",
          "name": "stderr",
          "text": [
            "/usr/local/lib/python3.7/dist-packages/ipykernel_launcher.py:2: DeprecationWarning: `np.int` is a deprecated alias for the builtin `int`. To silence this warning, use `int` by itself. Doing this will not modify any behavior and is safe. When replacing `np.int`, you may wish to use e.g. `np.int64` or `np.int32` to specify the precision. If you wish to review your current use, check the release note link for additional information.\n",
            "Deprecated in NumPy 1.20; for more details and guidance: https://numpy.org/devdocs/release/1.20.0-notes.html#deprecations\n",
            "  \n"
          ]
        },
        {
          "output_type": "execute_result",
          "data": {
            "text/plain": [
              "array([1, 1, 1, 0])"
            ]
          },
          "metadata": {},
          "execution_count": 12
        }
      ]
    },
    {
      "cell_type": "code",
      "source": [
        "# ORゲートの学習を行う\n",
        "x = np.array([[0, 0], [0, 1], [1, 0], [1, 1]])\n",
        "t = np.array([0, 1, 1, 1])\n",
        "X = create_matrix(x)\n",
        "parameter = logistic_regression(X, t)"
      ],
      "metadata": {
        "colab": {
          "base_uri": "https://localhost:8080/"
        },
        "id": "09SpcHzN32ie",
        "outputId": "5fa56482-cc67-4249-ff6f-59a6926a1e0f"
      },
      "execution_count": 13,
      "outputs": [
        {
          "output_type": "stream",
          "name": "stdout",
          "text": [
            "1回： parameter = [0.65012852 0.15878134 0.6027127 ]\n",
            "10回： parameter = [0.61693252 0.53886201 0.91648549]\n",
            "20回： parameter = [0.46846427 0.85645105 1.17878054]\n",
            "30回： parameter = [0.29801259 1.12475367 1.40270133]\n",
            "40回： parameter = [0.13335588 1.36344558 1.6046024 ]\n",
            "50回： parameter = [-0.01793207  1.58056962  1.79084254]\n"
          ]
        }
      ]
    },
    {
      "cell_type": "code",
      "source": [
        "# 学習した重み・バイアスを使ってORゲートの出力を表示してみる\n",
        "(sigmoid(create_matrix(np.array([[0, 0], [0, 1], [1, 0], [1, 1]])), parameter) >= 0.5).astype(np.int)"
      ],
      "metadata": {
        "colab": {
          "base_uri": "https://localhost:8080/"
        },
        "id": "bJ3TRB1n4FIe",
        "outputId": "57ea9e11-8ea6-4e83-b037-e6d8d90ae825"
      },
      "execution_count": 14,
      "outputs": [
        {
          "output_type": "stream",
          "name": "stderr",
          "text": [
            "/usr/local/lib/python3.7/dist-packages/ipykernel_launcher.py:2: DeprecationWarning: `np.int` is a deprecated alias for the builtin `int`. To silence this warning, use `int` by itself. Doing this will not modify any behavior and is safe. When replacing `np.int`, you may wish to use e.g. `np.int64` or `np.int32` to specify the precision. If you wish to review your current use, check the release note link for additional information.\n",
            "Deprecated in NumPy 1.20; for more details and guidance: https://numpy.org/devdocs/release/1.20.0-notes.html#deprecations\n",
            "  \n"
          ]
        },
        {
          "output_type": "execute_result",
          "data": {
            "text/plain": [
              "array([0, 1, 1, 1])"
            ]
          },
          "metadata": {},
          "execution_count": 14
        }
      ]
    },
    {
      "cell_type": "markdown",
      "source": [
        "### TensorFlowスタイルによるXORゲートの実装"
      ],
      "metadata": {
        "id": "uOzeQvgt4HVV"
      }
    },
    {
      "cell_type": "code",
      "source": [
        "train = np.array([\n",
        "    [0, 0],\n",
        "    [0, 1],\n",
        "    [1, 0],\n",
        "    [1, 1]\n",
        "])\n",
        "label = np.array([\n",
        "    [0],\n",
        "    [1],\n",
        "    [1],\n",
        "    [0]\n",
        "])"
      ],
      "metadata": {
        "id": "MMJrKMx44e3V"
      },
      "execution_count": 24,
      "outputs": []
    },
    {
      "cell_type": "code",
      "source": [
        "import tensorflow as tf\n",
        "\n",
        "class MLP(tf.keras.Model):\n",
        "    '''\n",
        "    多層パーセプトロン\n",
        "    Attributes:\n",
        "        l1(Dense): 隠れ層\n",
        "        l2(Dense): 出力層\n",
        "    '''\n",
        "    def __init__(self, input_dim, hidden_dim, output_dim):\n",
        "        '''\n",
        "        モデルの初期化を行う\n",
        "        Parameters:\n",
        "            input_dim: 入力する1データあたりの値の形状\n",
        "            hidden_dim(int): 隠れ層のニューロン層\n",
        "            output_dim(int): 出力層のニューロン層\n",
        "        '''\n",
        "        super(MLP, self).__init__()\n",
        "        # 隠れ層\n",
        "        self.l1 = tf.keras.layers.Dense(\n",
        "            units=hidden_dim,\n",
        "            input_dim=input_dim,\n",
        "            activation='sigmoid'\n",
        "        )\n",
        "        # 出力層\n",
        "        self.l2 = tf.keras.layers.Dense(\n",
        "            units=output_dim,\n",
        "            activation='sigmoid'\n",
        "        )\n",
        "    \n",
        "    @tf.function\n",
        "    def call(self, x, training=None):\n",
        "        '''\n",
        "        モデルのインスタンスからコールバックされる関数\n",
        "        MLPの順伝播処理を行う\n",
        "        Parameters:\n",
        "            x(ndarray(float32)): 訓練データまたは検証データ\n",
        "            training(bool): 訓練True、検証False\n",
        "        Returns(float32): 出力層からの出力値\n",
        "        '''\n",
        "        h = self.l1(x)\n",
        "        y = self.l2(h)\n",
        "        return y"
      ],
      "metadata": {
        "id": "2aaNQonT4vuN"
      },
      "execution_count": 25,
      "outputs": []
    },
    {
      "cell_type": "code",
      "source": [
        "# 入力層2ニューロン、隠れ層2ニューロン、出力層1ニューロンのモデルを生成\n",
        "model = MLP(2, 2, 1)"
      ],
      "metadata": {
        "id": "qdC3HK_w5uky"
      },
      "execution_count": 26,
      "outputs": []
    },
    {
      "cell_type": "code",
      "source": [
        "'''\n",
        "損失関数とオプティマイザーの生成\n",
        "'''\n",
        "# バイナリ用のクロスエントロピー誤差のオブジェクトを生成\n",
        "loss_fn = tf.keras.losses.BinaryCrossentropy()\n",
        "# 勾配降下アルゴリズムを使用するオプティマイザーを生成\n",
        "optimizer = tf.keras.optimizers.SGD(learning_rate=0.5)"
      ],
      "metadata": {
        "id": "B4ONL5L66_QR"
      },
      "execution_count": 27,
      "outputs": []
    },
    {
      "cell_type": "code",
      "source": [
        "'''\n",
        "勾配降下アルゴリズムによるパラメーターの更新処理\n",
        "'''\n",
        "@tf.function\n",
        "def train_step(x, t):\n",
        "    '''\n",
        "    バックプロパゲーションによるパラメータ更新を行う\n",
        "    Parameters:\n",
        "        x(ndarray(float32)): 訓練データ\n",
        "        t(ndarray(float32)): 正解ラベル\n",
        "    \n",
        "    Returns:\n",
        "        MLPの出力と正解ラベルのクロスエントロピー誤差\n",
        "    '''\n",
        "    # 自動微分による勾配計算のための操作を記録するブロック\n",
        "    with tf.GradientTape() as tape:\n",
        "        predictions = model(x)\n",
        "        pred_loss = loss_fn(t, predictions)\n",
        "    \n",
        "    # tapeに記録された操作を使用して誤差の勾配を計算\n",
        "    gradients = tape.gradient(\n",
        "        pred_loss,\n",
        "        model.trainable_variables\n",
        "    )\n",
        "\n",
        "    # 勾配降下法の更新式を適用してバイアス、重みを更新\n",
        "    optimizer.apply_gradients(\n",
        "        zip(gradients, model.trainable_variables)\n",
        "    )\n",
        "    return pred_loss"
      ],
      "metadata": {
        "id": "3n-_fivM9Tjp"
      },
      "execution_count": 28,
      "outputs": []
    },
    {
      "cell_type": "code",
      "source": [
        "'''\n",
        "モデルを使用して学習する\n",
        "'''\n",
        "epochs = 4000\n",
        "\n",
        "for epoch in range(epochs):\n",
        "    # 1エポックごとの損失を保持する変数\n",
        "    epoch_loss = 0.\n",
        "\n",
        "    # データをモデルに入力し、バイアス、重みを更新して誤差を取得\n",
        "    loss = train_step(train, label)\n",
        "    epoch_loss += loss.numpy()\n",
        "\n",
        "    # 1000エポックごとに結果を出力\n",
        "    if (epoch + 1) % 1000 == 0:\n",
        "        print('epoch({}) loss: {:.4f}'.format(epoch + 1, epoch_loss))\n",
        "\n",
        "# モデルの構造を出力\n",
        "model.summary()"
      ],
      "metadata": {
        "colab": {
          "base_uri": "https://localhost:8080/"
        },
        "id": "QXuPavGC-kF_",
        "outputId": "507f1748-c277-463c-f191-8324da132fdf"
      },
      "execution_count": 29,
      "outputs": [
        {
          "output_type": "stream",
          "name": "stdout",
          "text": [
            "epoch(1000) loss: 0.6931\n",
            "epoch(2000) loss: 0.6931\n",
            "epoch(3000) loss: 0.6929\n",
            "epoch(4000) loss: 0.5648\n",
            "Model: \"mlp_1\"\n",
            "_________________________________________________________________\n",
            " Layer (type)                Output Shape              Param #   \n",
            "=================================================================\n",
            " dense_2 (Dense)             multiple                  6         \n",
            "                                                                 \n",
            " dense_3 (Dense)             multiple                  3         \n",
            "                                                                 \n",
            "=================================================================\n",
            "Total params: 9\n",
            "Trainable params: 9\n",
            "Non-trainable params: 0\n",
            "_________________________________________________________________\n"
          ]
        }
      ]
    },
    {
      "cell_type": "code",
      "source": [
        "'''\n",
        "モデルを評価する\n",
        "'''\n",
        "# 学習済みのMLPの出力\n",
        "print(model(train))\n",
        "\n",
        "# 学習した重み・バイアスを使ってXORゲートの出力を表示\n",
        "# MLPの出力が0.5以上であれば1、そうでなければ0を返す\n",
        "print(tf.cast(((model(train)) >= 0.5), tf.int32))"
      ],
      "metadata": {
        "colab": {
          "base_uri": "https://localhost:8080/"
        },
        "id": "r4opx4oa_vKT",
        "outputId": "aeb4ebe8-8eb3-4397-f611-4bb5c5c67083"
      },
      "execution_count": 31,
      "outputs": [
        {
          "output_type": "stream",
          "name": "stdout",
          "text": [
            "tf.Tensor(\n",
            "[[0.41605067]\n",
            " [0.41266626]\n",
            " [0.73142195]\n",
            " [0.4053288 ]], shape=(4, 1), dtype=float32)\n",
            "tf.Tensor(\n",
            "[[0]\n",
            " [0]\n",
            " [1]\n",
            " [0]], shape=(4, 1), dtype=int32)\n"
          ]
        }
      ]
    },
    {
      "cell_type": "markdown",
      "source": [
        "### KerasスタイルによるXORゲートの実装"
      ],
      "metadata": {
        "id": "tNn5YndmAijT"
      }
    },
    {
      "cell_type": "code",
      "source": [
        "from keras.models import Sequential\n",
        "from keras.layers import Dense, Activation\n",
        "from keras import optimizers\n",
        "\n",
        "# XORゲートの入力値　0と1の組み合わせの行列（4, 2）\n",
        "X = np.array([[0, 0], [0, 1], [1, 0], [1, 1]])\n",
        "T = np.array([[0], [1], [1], [0]])"
      ],
      "metadata": {
        "id": "JZJHwQCmBBPI"
      },
      "execution_count": 33,
      "outputs": []
    },
    {
      "cell_type": "code",
      "source": [
        "'''\n",
        "モデルの作成\n",
        "'''\n",
        "from tensorflow.keras.models import Sequential\n",
        "from tensorflow.keras.layers import Dense\n",
        "from tensorflow.keras.optimizers import SGD\n",
        "\n",
        "model = Sequential()\n",
        "\n",
        "# 隠れ層\n",
        "model.add(\n",
        "    Dense(input_dim=2,\n",
        "          units=2,\n",
        "          activation=\"sigmoid\"))\n",
        "\n",
        "# 出力層\n",
        "model.add(\n",
        "    Dense(units=1,\n",
        "          activation='sigmoid'))\n",
        "\n",
        "# モデルのコンパイル\n",
        "model.compile(\n",
        "    optimizer=SGD(lr=0.5),\n",
        "    loss='binary_crossentropy')\n",
        "\n",
        "# モデルのサマリを表示\n",
        "model.summary()"
      ],
      "metadata": {
        "colab": {
          "base_uri": "https://localhost:8080/"
        },
        "id": "VKllzWltBkiK",
        "outputId": "afe138ac-9872-4bb1-8370-ad421343cc3d"
      },
      "execution_count": 36,
      "outputs": [
        {
          "output_type": "stream",
          "name": "stdout",
          "text": [
            "Model: \"sequential_2\"\n",
            "_________________________________________________________________\n",
            " Layer (type)                Output Shape              Param #   \n",
            "=================================================================\n",
            " dense_6 (Dense)             (None, 2)                 6         \n",
            "                                                                 \n",
            " dense_7 (Dense)             (None, 1)                 3         \n",
            "                                                                 \n",
            "=================================================================\n",
            "Total params: 9\n",
            "Trainable params: 9\n",
            "Non-trainable params: 0\n",
            "_________________________________________________________________\n"
          ]
        },
        {
          "output_type": "stream",
          "name": "stderr",
          "text": [
            "/usr/local/lib/python3.7/dist-packages/keras/optimizer_v2/gradient_descent.py:102: UserWarning: The `lr` argument is deprecated, use `learning_rate` instead.\n",
            "  super(SGD, self).__init__(name, **kwargs)\n"
          ]
        }
      ]
    },
    {
      "cell_type": "code",
      "source": [
        "'''\n",
        "モデルの学習\n",
        "'''\n",
        "history = model.fit(\n",
        "    train,\n",
        "    label,\n",
        "    epochs=4000,\n",
        "    batch_size=4,\n",
        "    verbose=2\n",
        ")"
      ],
      "metadata": {
        "id": "N3zkyfgBLwzf"
      },
      "execution_count": null,
      "outputs": []
    },
    {
      "cell_type": "code",
      "source": [
        "'''\n",
        "学習結果の確認\n",
        "'''\n",
        "print('loss:', history.history['loss'][-1])\n",
        "pred = model.predict(train, batch_size=4)\n",
        "print(pred)\n",
        "print((pred >= 0.5).astype(np.int))"
      ],
      "metadata": {
        "colab": {
          "base_uri": "https://localhost:8080/"
        },
        "id": "J_vYIlyhMHmY",
        "outputId": "2c2d7bc7-64da-44fb-e220-d10a84d006cb"
      },
      "execution_count": 38,
      "outputs": [
        {
          "output_type": "stream",
          "name": "stdout",
          "text": [
            "loss: 0.350027471780777\n",
            "[[0.00360811]\n",
            " [0.4986454 ]\n",
            " [0.996009  ]\n",
            " [0.50173926]]\n",
            "[[0]\n",
            " [0]\n",
            " [1]\n",
            " [1]]\n"
          ]
        },
        {
          "output_type": "stream",
          "name": "stderr",
          "text": [
            "/usr/local/lib/python3.7/dist-packages/ipykernel_launcher.py:7: DeprecationWarning: `np.int` is a deprecated alias for the builtin `int`. To silence this warning, use `int` by itself. Doing this will not modify any behavior and is safe. When replacing `np.int`, you may wish to use e.g. `np.int64` or `np.int32` to specify the precision. If you wish to review your current use, check the release note link for additional information.\n",
            "Deprecated in NumPy 1.20; for more details and guidance: https://numpy.org/devdocs/release/1.20.0-notes.html#deprecations\n",
            "  import sys\n"
          ]
        }
      ]
    },
    {
      "cell_type": "markdown",
      "source": [
        "### PyTorchによるXORゲートの実装"
      ],
      "metadata": {
        "id": "jfM--F8KZs4C"
      }
    },
    {
      "cell_type": "code",
      "source": [
        "'''\n",
        "訓練データと正解ラベルの用意\n",
        "'''\n",
        "import torch\n",
        "\n",
        "train = np.array([[0, 0], [0, 1], [1, 0], [1, 1]])\n",
        "label = np.array([[0], [1], [1], [0]])\n",
        "\n",
        "train_x = torch.Tensor(train)\n",
        "train_y = torch.Tensor(label)"
      ],
      "metadata": {
        "id": "lR3Vo1GxZ0H_"
      },
      "execution_count": 62,
      "outputs": []
    },
    {
      "cell_type": "code",
      "source": [
        "'''\n",
        "モデルの定義\n",
        "'''\n",
        "import torch.nn as nn\n",
        "\n",
        "class MLP(nn.Module):\n",
        "    '''\n",
        "    多層パーセプトロン\n",
        "    Attributes:\n",
        "        l1(Linear): 隠れ層\n",
        "        l2(Linear): 出力層\n",
        "        a1(Sigmoid): 隠れ層の活性化関数\n",
        "        a2(Sigmoid): 出力層の活性化関数\n",
        "    '''\n",
        "    def __init__(self, input_dim, hidden_dim, output_dim):\n",
        "        '''\n",
        "        Parameters:\n",
        "            hidden_dim(int): 隠れ数のユニット数\n",
        "            output_dim(int): 出力数のユニット数\n",
        "        '''\n",
        "        super().__init__()\n",
        "        self.fc1 = nn.Linear(input_dim, hidden_dim)\n",
        "\n",
        "        self.fc2 = nn.Linear(hidden_dim, output_dim)\n",
        "    \n",
        "    def forward(self, x):\n",
        "        '''\n",
        "        MLPの順伝播処理を行う\n",
        "        Parameters:\n",
        "            x(ndarray(float32)): 訓練データ、、または検証データ\n",
        "        Returns(float32):\n",
        "            出力層からの出力値\n",
        "        '''\n",
        "        x = self.fc1(x)\n",
        "        x = torch.sigmoid(x)\n",
        "        x = self.fc2(x)\n",
        "        x = torch.sigmoid(x)\n",
        "        return x"
      ],
      "metadata": {
        "id": "5M8TGOGFaIga"
      },
      "execution_count": 63,
      "outputs": []
    },
    {
      "cell_type": "code",
      "source": [
        "'''\n",
        "モデルの生成\n",
        "'''\n",
        "# 使用可能なデバイス（CPUまたはGPU）を取得する\n",
        "device = torch.device('cuda' if torch.cuda.is_available() else 'cpu')\n",
        "# モデルオブジェクトを生成し、使用可能なデバイスを設定する\n",
        "model = MLP(2, 2, 1).to(device)\n",
        "\n",
        "model"
      ],
      "metadata": {
        "colab": {
          "base_uri": "https://localhost:8080/"
        },
        "id": "roVqY_Lwb18p",
        "outputId": "03f9eb71-6b0f-4896-aad0-fe03136a8ee8"
      },
      "execution_count": 64,
      "outputs": [
        {
          "output_type": "execute_result",
          "data": {
            "text/plain": [
              "MLP(\n",
              "  (fc1): Linear(in_features=2, out_features=2, bias=True)\n",
              "  (fc2): Linear(in_features=2, out_features=1, bias=True)\n",
              ")"
            ]
          },
          "metadata": {},
          "execution_count": 64
        }
      ]
    },
    {
      "cell_type": "code",
      "source": [
        "'''\n",
        "損失関数とオプティマイザーの生成\n",
        "'''\n",
        "import torch.optim\n",
        "\n",
        "# バイナリ用のクロスエントロピーの誤差のオブジェクトを生成\n",
        "criterion = nn.BCELoss()\n",
        "# 勾配降下アルゴリズムを使用するオプティマイザーを生成\n",
        "optimizer = torch.optim.SGD(model.parameters(), lr=0.5)"
      ],
      "metadata": {
        "id": "j19q00LscTYb"
      },
      "execution_count": 65,
      "outputs": []
    },
    {
      "cell_type": "code",
      "source": [
        "'''\n",
        "勾配降下アルゴリズムによるパラメーターの更新処理\n",
        "'''\n",
        "def train_step(x, t):\n",
        "    '''\n",
        "    バックバックプロパゲーションによるパラメーター更新を行う\n",
        "    Parameters:\n",
        "        x(ndarray(float32)): 訓練データ\n",
        "        t(ndarray(float32)): 正解ラベル\n",
        "    \n",
        "    Returns:\n",
        "        MLPの出力と正解ラベルのクロスエントロピー誤差\n",
        "    '''\n",
        "    # モデルを訓練モードにする\n",
        "    model.train()\n",
        "    outputs = model(x)\n",
        "    loss = criterion(outputs, t)\n",
        "    optimizer.zero_grad()\n",
        "    loss.backward()\n",
        "    optimizer.step()\n",
        "\n",
        "    return loss"
      ],
      "metadata": {
        "id": "f6bqqKQ0hvBQ"
      },
      "execution_count": 66,
      "outputs": []
    },
    {
      "cell_type": "code",
      "source": [
        "'''\n",
        "モデルを使用して学習する\n",
        "'''\n",
        "# エポック数\n",
        "epochs = 4000\n",
        "\n",
        "# 学習を行う\n",
        "for epoch in range(epochs):\n",
        "    # 1エポックごとの損失を保持する変数\n",
        "    epoch_loss = 0.\n",
        "\n",
        "    # torch.Tensorオブジェクトにデバイスを割り当てる\n",
        "    train_x, train_y = train_x.to(device), train_y.to(device)\n",
        "\n",
        "    # データをモデルに入力し、バイアス、重みを更新して誤差を取得\n",
        "    loss = train_step(train_x, train_y)\n",
        "    epoch_loss += loss.item()\n",
        "\n",
        "    # 1000エポックごとに結果を出力\n",
        "    if (epoch + 1) % 1000 == 0:\n",
        "        print('epoch({}) loss: {:.4f}'.format(epoch + 1, epoch_loss))"
      ],
      "metadata": {
        "colab": {
          "base_uri": "https://localhost:8080/"
        },
        "id": "XGOpe_3DcxWI",
        "outputId": "cd916b07-834b-415e-ae7a-baf21b16e29f"
      },
      "execution_count": 67,
      "outputs": [
        {
          "output_type": "stream",
          "name": "stdout",
          "text": [
            "epoch(1000) loss: 0.6931\n",
            "epoch(2000) loss: 0.6923\n",
            "epoch(3000) loss: 0.0764\n",
            "epoch(4000) loss: 0.0167\n"
          ]
        }
      ]
    },
    {
      "cell_type": "code",
      "source": [
        "'''\n",
        "学習済みモデルで予測する\n",
        "'''\n",
        "# 学習済みのMLPの出力\n",
        "outputs = model(train_x)\n",
        "print(outputs)\n",
        "# デバイスがCPUに設定されたTensorを取得し、これをNumpy配列に変換\n",
        "# 出力値を閾値0.5で0と1に分類する\n",
        "# preds = (outputs.to('cuda').detach().numpy().copy() > 0.5).astype(np.int32)\n",
        "# print(preds)"
      ],
      "metadata": {
        "colab": {
          "base_uri": "https://localhost:8080/"
        },
        "id": "-l5RJa62dvNp",
        "outputId": "573649bf-aeab-4956-82bc-9515ddfa8a25"
      },
      "execution_count": 69,
      "outputs": [
        {
          "output_type": "stream",
          "name": "stdout",
          "text": [
            "tensor([[0.0198],\n",
            "        [0.9850],\n",
            "        [0.9850],\n",
            "        [0.0162]], grad_fn=<SigmoidBackward0>)\n"
          ]
        }
      ]
    }
  ]
}